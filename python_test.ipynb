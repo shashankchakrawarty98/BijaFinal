{
  "nbformat": 4,
  "nbformat_minor": 0,
  "metadata": {
    "colab": {
      "name": "python_test.ipynb",
      "provenance": [],
      "authorship_tag": "ABX9TyNJOHKx3NnRzIs4Kh/Sh6RI",
      "include_colab_link": true
    },
    "kernelspec": {
      "name": "python3",
      "display_name": "Python 3"
    }
  },
  "cells": [
    {
      "cell_type": "markdown",
      "metadata": {
        "id": "view-in-github",
        "colab_type": "text"
      },
      "source": [
        "<a href=\"https://colab.research.google.com/github/shashankchakrawarty98/BijaFinal/blob/master/python_test.ipynb\" target=\"_parent\"><img src=\"https://colab.research.google.com/assets/colab-badge.svg\" alt=\"Open In Colab\"/></a>"
      ]
    },
    {
      "cell_type": "code",
      "metadata": {
        "colab": {
          "base_uri": "https://localhost:8080/"
        },
        "id": "PBZvMiFTwq_z",
        "outputId": "99a9a14d-4401-43a8-9cbb-2e96e88661a7"
      },
      "source": [
        "print('My', 'Name', 'Is', 'James', sep='**') #question 1(i)"
      ],
      "execution_count": 2,
      "outputs": [
        {
          "output_type": "stream",
          "text": [
            "My**Name**Is**James\n"
          ],
          "name": "stdout"
        }
      ]
    },
    {
      "cell_type": "markdown",
      "metadata": {
        "id": "qWxGtYXhzFHm"
      },
      "source": [
        "Global variables are the one that are defined and declared outside a function and we need to use them inside a function.\r\n"
      ]
    },
    {
      "cell_type": "code",
      "metadata": {
        "colab": {
          "base_uri": "https://localhost:8080/"
        },
        "id": "qbNAw5mYxJTD",
        "outputId": "0a2d5be9-2b93-4fcf-8970-95f3ed40475b"
      },
      "source": [
        "a = 1\r\n",
        "\r\n",
        "# will use global, no local 'a' \r\n",
        "def foo(): \r\n",
        "\tprint('Inside foo() : ', a) \r\n",
        "\r\n",
        "#  'a' is redefined as a local \r\n",
        "def gfunction():\t \r\n",
        "\ta = 2\r\n",
        "\tprint('Inside gfunction() : ', a) \r\n",
        "\r\n",
        "# Uses global keyword to modify global 'a' \r\n",
        "def hfunction():\t \r\n",
        "\tglobal a \r\n",
        "\ta = 3\r\n",
        "\tprint('In the hfunction() : ', a) \r\n",
        "\r\n",
        "# Global scope \r\n",
        "print('global : ',a) \r\n",
        "foo() \r\n",
        "print('global : ',a) \r\n",
        "gfunction() \r\n",
        "print('global : ',a) \r\n",
        "hfunction() \r\n",
        "print('global : ',a) \r\n"
      ],
      "execution_count": 6,
      "outputs": [
        {
          "output_type": "stream",
          "text": [
            "global :  1\n",
            "Inside f() :  1\n",
            "global :  1\n",
            "Inside g() :  2\n",
            "global :  1\n",
            "In the h() :  3\n",
            "global :  3\n"
          ],
          "name": "stdout"
        }
      ]
    },
    {
      "cell_type": "markdown",
      "metadata": {
        "id": "6VLLyESgz0vw"
      },
      "source": [
        "In the  code, we created x as a global variable and defined a foo() to print the global variable x. Finally, we call the foo() which will print the value of x."
      ]
    },
    {
      "cell_type": "code",
      "metadata": {
        "colab": {
          "base_uri": "https://localhost:8080/"
        },
        "id": "POzus2MU0EH_",
        "outputId": "2d0923db-724d-4bcb-d6c8-e2eae74a8e1c"
      },
      "source": [
        "x = \"shashank\"\r\n",
        "\r\n",
        "def foo():\r\n",
        "    print(\"x inside:\", x)\r\n",
        "\r\n",
        "\r\n",
        "foo()\r\n",
        "print(\"x outside:\", x)"
      ],
      "execution_count": 7,
      "outputs": [
        {
          "output_type": "stream",
          "text": [
            "x inside: shashank\n",
            "x outside: shashank\n"
          ],
          "name": "stdout"
        }
      ]
    },
    {
      "cell_type": "markdown",
      "metadata": {
        "id": "AFT-j_MR0oNb"
      },
      "source": [
        "A variable declared inside the function's body or in the local scope is known as a local variable."
      ]
    },
    {
      "cell_type": "code",
      "metadata": {
        "colab": {
          "base_uri": "https://localhost:8080/",
          "height": 214
        },
        "id": "GoPoVBEM0yz2",
        "outputId": "e70bfb21-726e-46c5-9976-0d6ac250af5f"
      },
      "source": [
        "def foo():\r\n",
        "    y = \"shashank\"\r\n",
        "\r\n",
        "\r\n",
        "foo()\r\n",
        "print(y)  "
      ],
      "execution_count": 3,
      "outputs": [
        {
          "output_type": "error",
          "ename": "NameError",
          "evalue": "ignored",
          "traceback": [
            "\u001b[0;31m---------------------------------------------------------------------------\u001b[0m",
            "\u001b[0;31mNameError\u001b[0m                                 Traceback (most recent call last)",
            "\u001b[0;32m<ipython-input-3-d2b04752ec76>\u001b[0m in \u001b[0;36m<module>\u001b[0;34m()\u001b[0m\n\u001b[1;32m      4\u001b[0m \u001b[0;34m\u001b[0m\u001b[0m\n\u001b[1;32m      5\u001b[0m \u001b[0mfoo\u001b[0m\u001b[0;34m(\u001b[0m\u001b[0;34m)\u001b[0m\u001b[0;34m\u001b[0m\u001b[0;34m\u001b[0m\u001b[0m\n\u001b[0;32m----> 6\u001b[0;31m \u001b[0mprint\u001b[0m\u001b[0;34m(\u001b[0m\u001b[0my\u001b[0m\u001b[0;34m)\u001b[0m  \u001b[0;31m#The output shows an error because we are trying to access a local variable y in a global scope whereas the local variable only works inside foo() or local scope.\u001b[0m\u001b[0;34m\u001b[0m\u001b[0;34m\u001b[0m\u001b[0m\n\u001b[0m",
            "\u001b[0;31mNameError\u001b[0m: name 'y' is not defined"
          ]
        }
      ]
    },
    {
      "cell_type": "markdown",
      "metadata": {
        "id": "dkyCy-ey1QrT"
      },
      "source": [
        "The output shows an error because we are trying to access a local variable y in a global scope whereas the local variable only works inside foo() or local scope."
      ]
    },
    {
      "cell_type": "code",
      "metadata": {
        "id": "LdttDTWw1UNR"
      },
      "source": [
        "#Normally, we declare a variable inside the function to create a local variable"
      ],
      "execution_count": 4,
      "outputs": []
    },
    {
      "cell_type": "code",
      "metadata": {
        "colab": {
          "base_uri": "https://localhost:8080/"
        },
        "id": "YiqFfCwK1Zsb",
        "outputId": "d57dd877-4dad-4bb9-e17f-c711d98d3ea9"
      },
      "source": [
        "def foo():\r\n",
        "    y = \"local\"\r\n",
        "    print(y)\r\n",
        "\r\n",
        "foo()"
      ],
      "execution_count": 5,
      "outputs": [
        {
          "output_type": "stream",
          "text": [
            "local\n"
          ],
          "name": "stdout"
        }
      ]
    },
    {
      "cell_type": "markdown",
      "metadata": {
        "id": "kcWU3YYL1jqO"
      },
      "source": [
        "ANSWER 2"
      ]
    },
    {
      "cell_type": "code",
      "metadata": {
        "colab": {
          "base_uri": "https://localhost:8080/"
        },
        "id": "x3cs6iQb2FuA",
        "outputId": "01dc0a80-8f49-4716-cb09-bce8b0447451"
      },
      "source": [
        "income = int(input(\"enter income\"))\r\n",
        "taxPayable = 0\r\n",
        "print(\"the income of tax payer is:\", income)\r\n",
        "\r\n",
        "if income <= 10000:\r\n",
        "    taxPayable = 0\r\n",
        "elif income <= 20000:\r\n",
        "    taxPayable = (income - 10000) * 10 / 100\r\n",
        "else:\r\n",
        "    \r\n",
        "    taxPayable = 0\r\n",
        "\r\n",
        "    \r\n",
        "    taxPayable = 10000 * 10 / 100\r\n",
        "\r\n",
        "    \r\n",
        "    taxPayable += (income - 20000) * 20 / 100\r\n",
        "\r\n",
        "print(\"Total tax \", taxPayable)"
      ],
      "execution_count": 6,
      "outputs": [
        {
          "output_type": "stream",
          "text": [
            "enter income1000000\n",
            "Given income 1000000\n",
            "Total tax to pay is 197000.0\n"
          ],
          "name": "stdout"
        }
      ]
    },
    {
      "cell_type": "markdown",
      "metadata": {
        "id": "KQgT6NM328BQ"
      },
      "source": [
        "ANSWE4"
      ]
    },
    {
      "cell_type": "code",
      "metadata": {
        "colab": {
          "base_uri": "https://localhost:8080/"
        },
        "id": "gTwQbqvY6vjf",
        "outputId": "e2e7cd95-ec1e-4fcf-853c-3bbd08584a07"
      },
      "source": [
        "tuple1 = (11, 22, 33, 44, 55, 66,66)\r\n",
        "tuple2 = tuple1[3:5]\r\n",
        "print(tuple2)"
      ],
      "execution_count": 18,
      "outputs": [
        {
          "output_type": "stream",
          "text": [
            "(44, 55)\n"
          ],
          "name": "stdout"
        }
      ]
    },
    {
      "cell_type": "code",
      "metadata": {
        "colab": {
          "base_uri": "https://localhost:8080/"
        },
        "id": "LmUm09MW74_Y",
        "outputId": "8f0a3f70-6e58-4bbb-e111-40beb135db42"
      },
      "source": [
        "tuple1 = (11, 22, 33, 44, 55, 66,66)\r\n",
        "print(tuple1.count(66))"
      ],
      "execution_count": 19,
      "outputs": [
        {
          "output_type": "stream",
          "text": [
            "2\n"
          ],
          "name": "stdout"
        }
      ]
    },
    {
      "cell_type": "markdown",
      "metadata": {
        "id": "vOYBIOvM8C-M"
      },
      "source": [
        "Explain any two tupple methods."
      ]
    },
    {
      "cell_type": "markdown",
      "metadata": {
        "id": "GVcYWTOQ84BT"
      },
      "source": [
        "count()\tReturns the number of times a specified value occurs in a tuple\r\n",
        "index()\tSearches the tuple for a specified value and returns the position of where it was found\r\n"
      ]
    },
    {
      "cell_type": "code",
      "metadata": {
        "colab": {
          "base_uri": "https://localhost:8080/"
        },
        "id": "ME_0RsLQ84oV",
        "outputId": "2076e19e-6350-431b-a6b3-90bcd26aa21a"
      },
      "source": [
        "tupleA = (1, 3, 7, 8, 7, 5, 4, 6, 8, 5)\r\n",
        "\r\n",
        "x = tupleA.count(5)\r\n",
        "y = tupleA.index(5)\r\n",
        "\r\n",
        "print(\"count\",x)\r\n",
        "print(\"index\",y)"
      ],
      "execution_count": 28,
      "outputs": [
        {
          "output_type": "stream",
          "text": [
            "count 2\n",
            "index 5\n"
          ],
          "name": "stdout"
        }
      ]
    },
    {
      "cell_type": "code",
      "metadata": {
        "id": "74BAclg_9xFI"
      },
      "source": [
        ""
      ],
      "execution_count": null,
      "outputs": []
    }
  ]
}